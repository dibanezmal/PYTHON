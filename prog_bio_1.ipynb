{
 "cells": [
  {
   "cell_type": "markdown",
   "metadata": {},
   "source": [
    "Programación para la Bioinformática\n",
    "-----------------------------------\n",
    "\n",
    "## Unidad 1\n",
    "\n"
   ]
  },
  {
   "cell_type": "markdown",
   "metadata": {},
   "source": [
    "### Ejercicio 1\n",
    "\n",
    "Inserta a continuación de este celda otra celda de tipo *Markdown* con tu nombre y apellidos. Para ello sigue los siguiente pasos:\n",
    "\n",
    "1. En el menú selecciona *Insert* y después *Insert Cell Below*. Verás como aparece una nueva celda bajo esta.\n",
    "2. Ahora haz clic en ella y selecciona la opción *Markdown* en vez de la que aparece por defecto de tipo *Code*.\n",
    "3. Finalmente, escribe tu nombre y apellidos y haz clic en el botón *Run*.\n"
   ]
  },
  {
   "cell_type": "markdown",
   "metadata": {},
   "source": [
    "# Dani Ibáñez Maldonado"
   ]
  },
  {
   "cell_type": "markdown",
   "metadata": {},
   "source": [
    "Además de escribir el nombre aprovecho para recordar algunos comandos básicos de Markdown.\n",
    "\n",
    "El primero es escribir **en negrita** que es uno de los más básicos poniendo 2 asteriscos.\n",
    "\n",
    "Luego había el de como escribir *en cursiva* con un solo asterisco.\n",
    "\n",
    "Para romper una línea de golpe <br> se inserta un br como en las tablas html.\n",
    "\n",
    "Tambień hay una forma de enfatizar un párrafo:\n",
    "\n",
    ">para hacerlo se le pone un signo (mayor que) delante\n",
    ">\n",
    ">y mientras no lo quitas se destaca el texto con una barra lateral izquierda\n",
    ">> incluso si pones dos se resalta un bloque\n",
    ">> dentro del primer bloque\n",
    ">\n",
    "> y finalizamos el bloque primero.\n",
    "\n",
    "con rallitas se pueden realizar listas de cosas como:\n",
    "\n",
    "- cosa 1\n",
    "- cosa 2\n",
    "- cosa 3\n",
    "\n",
    "y se sigue como si nada. También se pueden numerar:\n",
    "\n",
    "1. cosa 1\n",
    "2. cosa 2\n",
    "3. cosa 3\n",
    "\n",
    "y seguimos incluso poniendo una imagen como podría ser esta de código fuente:\n",
    "\n",
    "![codigo, imagen de codigo](Prueba_img.jpg)\n",
    "\n",
    "Llegados a este punto podemos trazar una línea\n",
    "_________________________________________________________________________________\n",
    "\n",
    "y seguir con otro tema que podría ser insertar un link en el texto para poder ir directamente a visualizar una página web de algo interesante :\n",
    "\n",
    "Como ir a la página del Club Joventut de Badalona(https://www.penya.com/ca/).\n",
    "\n",
    "Y terminamos con un final contundente...\n",
    "\n",
    "\n",
    "\n",
    "# FINAL\n",
    "\n",
    "\n"
   ]
  }
 ],
 "metadata": {
  "kernelspec": {
   "display_name": "Python 3",
   "language": "python",
   "name": "python3"
  },
  "language_info": {
   "codemirror_mode": {
    "name": "ipython",
    "version": 3
   },
   "file_extension": ".py",
   "mimetype": "text/x-python",
   "name": "python",
   "nbconvert_exporter": "python",
   "pygments_lexer": "ipython3",
   "version": "3.6.9"
  }
 },
 "nbformat": 4,
 "nbformat_minor": 1
}
