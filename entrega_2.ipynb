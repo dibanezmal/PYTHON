{
 "cells": [
  {
   "cell_type": "markdown",
   "metadata": {},
   "source": [
    "# Programación para la Bioinformática"
   ]
  },
  {
   "cell_type": "markdown",
   "metadata": {},
   "source": [
    "## Módulo 2: Breve introducción a la programación en Python"
   ]
  },
  {
   "cell_type": "markdown",
   "metadata": {},
   "source": [
    "Ejercicios y preguntas teóricas\n",
    "-------------------------------\n",
    "\n",
    "A continuación, encontraréis la parte que tenéis que completar en este modulo y las preguntas teóricas a contestar.\n",
    "\n",
    "Podéis encontrar en la documentación oficial de *string* funciones que os puedan ser de ayuda para completar los ejercicios: https://docs.python.org/3/library/string.html"
   ]
  },
  {
   "cell_type": "markdown",
   "metadata": {},
   "source": [
    "### Pregunta 1\n",
    "¿Cuál es la diferencia entre definir un string con comillas simples (' '), comillas dobles(\" \") y tres comillas dobles (\"\"\" \"\"\")? \n",
    "\n",
    "**Pon un ejemplo de cada uno de ellos**.\n",
    "\n",
    "**Respuesta:**\n"
   ]
  },
  {
   "cell_type": "markdown",
   "metadata": {},
   "source": [
    "No hay ninguna diferencia entre comillas simples y dobles en Phython. Si la hay con las triples.\n",
    "Como observaciones adicionales:\n",
    "\n",
    "- Si el texto incluye un apóstrofe, mejor usar comillas dobles.\n",
    "  \n",
    "- Si el texto incluye una cita que va entre comillas (dobles), pues mejor usar comillas simples.\n",
    "  \n",
    "- Aún así, siempre podemos usar unas u otras y si, dentro del texto hay algunas comillas simples o dobles, podemos usar la barra slash \\\" o \\' para que se interpreten siempre como texto.\n"
   ]
  },
  {
   "cell_type": "code",
   "execution_count": 42,
   "metadata": {
    "scrolled": true
   },
   "outputs": [
    {
     "name": "stdout",
     "output_type": "stream",
     "text": [
      "\n",
      "Estic molt cansat de la pandèmia\n",
      "\n",
      "Estic fins els cordons d'aquesta pandèmia\n",
      "\n",
      "Estic esgotat d'aquesta pandèmia\n",
      "\n"
     ]
    }
   ],
   "source": [
    "print('\\nEstic molt cansat de la pandèmia\\n')\n",
    "  \n",
    "print(\"Estic fins els cordons d'aquesta pandèmia\\n\")\n",
    "  \n",
    "print('Estic esgotat d\\'aquesta pandèmia\\n')\n",
    " "
   ]
  },
  {
   "cell_type": "markdown",
   "metadata": {},
   "source": [
    "En cuanto a las comillas triples, sirven para mostrar un bloque de texto tal como se redacta. De algun modo no hay que preocuparse con las normas de redacción mientras estemos dentro de las triples comillas:\n"
   ]
  },
  {
   "cell_type": "code",
   "execution_count": 43,
   "metadata": {},
   "outputs": [
    {
     "name": "stdout",
     "output_type": "stream",
     "text": [
      "Estic saturat amb tot el que comporta:\n",
      "\n",
      "    - la pandèmia\n",
      "    - el confinament\n",
      "    - els fills\n",
      "    i els kilos de més\n"
     ]
    }
   ],
   "source": [
    "print(\"\"\"Estic saturat amb tot el que comporta:\n",
    "\n",
    "    - la pandèmia\n",
    "    - el confinament\n",
    "    - els fills\n",
    "    i els kilos de més\"\"\")\n"
   ]
  },
  {
   "cell_type": "markdown",
   "metadata": {},
   "source": [
    "### Pregunta 2\n",
    "¿Qué expresión en Python (la más idiomática que encuentres) necesitamos para conseguir el string `GATTACAGATTACAGATTACAGATTACAGATTACA` utilizando solo la palabra `GATTACA`?\n",
    "\n",
    "**Respuesta:**"
   ]
  },
  {
   "cell_type": "markdown",
   "metadata": {},
   "source": [
    "Yo usaría los operadores matemáticos aplicados a strings:"
   ]
  },
  {
   "cell_type": "code",
   "execution_count": 46,
   "metadata": {},
   "outputs": [
    {
     "name": "stdout",
     "output_type": "stream",
     "text": [
      "\n",
      "GATTACAGATTACAGATTACAGATTACAGATTACA\n"
     ]
    }
   ],
   "source": [
    "print('\\n' + 5*'GATTACA')"
   ]
  },
  {
   "cell_type": "markdown",
   "metadata": {},
   "source": [
    "### Pregunta 3\n",
    "\n",
    "**¿Cuál es el valor final de a, b y c (atención a los tipos de número decimal y entero)?**\n",
    "\n",
    "a = 2*8\n",
    "\n",
    "b = 5/2.\n",
    "\n",
    "c, a = a+3, b*2\n",
    "\n",
    "b = a // 3\n",
    "\n",
    "** Nota: ** Tened en cuenta el tipo de variable (int, float, bool, str) y su comportamiento en cada momento."
   ]
  },
  {
   "cell_type": "code",
   "execution_count": 23,
   "metadata": {},
   "outputs": [
    {
     "name": "stdout",
     "output_type": "stream",
     "text": [
      "16\n",
      "2.5\n",
      "5.0 2.5 19\n",
      "1.0\n"
     ]
    }
   ],
   "source": [
    "a = 2*8          # El resultado será 16 entero\n",
    "print(a)\n",
    "\n",
    "b = 5/2          # El resultado será 2.5 float\n",
    "print(b)\n",
    "\n",
    "c,a = a+3,b*2    # El resultado de las variables de la izquierda cogen los valores, uno a uno de la derecha.\n",
    "print(a,b,c)     # Por lo tanto quedará en 19,5 = 16+3,2.5*2, es decir 5.0 2.5 19\n",
    "\n",
    "b = a//3         # El resultado es el entero de la división.\n",
    "print(b)\n"
   ]
  },
  {
   "cell_type": "markdown",
   "metadata": {},
   "source": [
    "No obstante, en el momento que se realizan operaciones con números **float()**, mejor que todos ellos sean **float()**. Así mejor hacer una declaración previa:"
   ]
  },
  {
   "cell_type": "code",
   "execution_count": 47,
   "metadata": {},
   "outputs": [
    {
     "name": "stdout",
     "output_type": "stream",
     "text": [
      "16.0\n",
      "2.5\n",
      "5.0 2.5 19.0\n",
      "1.0\n",
      "2.0\n"
     ]
    }
   ],
   "source": [
    "a = float(2*8)          \n",
    "print(a)\n",
    "\n",
    "b = 5/2          \n",
    "print(b)\n",
    "\n",
    "c,a = a+3,b*2    \n",
    "print(a,b,c)     \n",
    "\n",
    "b = a//3         \n",
    "print(b) # entero de la división\n",
    "\n",
    "d = a%3\n",
    "print(d) # resto de la división\n"
   ]
  },
  {
   "cell_type": "markdown",
   "metadata": {},
   "source": [
    "Queremos saber cual es el valor final y porqué. Puedes ejecutar el código en una nueva celda para comprobar que tu respuesta es correcta, pero tu respuesta **debe** explicar la razón de que sea así, no vale con tan solo ejecutar el código.\n",
    "\n",
    "**No son lo mismo: 9 y 9.0**\n",
    "\n",
    "**Son lo mismo: 9. y 9.0**"
   ]
  },
  {
   "cell_type": "markdown",
   "metadata": {},
   "source": [
    "### Pregunta 4\n",
    "\n",
    "**¿Cuáles de las siguientes expresiones son sintácticamente incorrectas? Explica el porqué una por una.** Por sintácticamente incorrectas entendemos las expresiones que el intérprete de Python no es capaz de ejecutar correctamente.\n",
    "\n",
    "* planetas = 'Saturno', 'Jupiter', 'Tierra'\n",
    "* t = ('123', 'abc', 0, )\n",
    "* dias = ['Lunes', 'Martes', \"Miercoles\", ''.join(['J','u','e','v','e','s'])]\n",
    "* matriz = [[],[],[],[],()]\n",
    "* t = r = s = u = 0 + 1\n",
    "* a = 1; a += 1; a += []\n",
    "\n",
    "**Respuesta:**"
   ]
  },
  {
   "cell_type": "code",
   "execution_count": null,
   "metadata": {},
   "outputs": [],
   "source": [
    "    planetas = 'Saturno', 'Jupiter', 'Tierra' \n",
    "    \n",
    "    # CORRECTO a esta expresión le faltan los corchetes, pero si faltan los corchetes, python lo\n",
    "    # interpreta como tupla.\n",
    "    \n",
    "    t = ('123', 'abc', 0, ) \n",
    "    \n",
    "    # CORRECTO esta declaración de tipo tupla combina elementos de distinto tipo pero las listas y tuplas lo admiten.\n",
    "    \n",
    "    dias = ['Lunes', 'Martes', \"Miercoles\", ''.join(['J','u','e','v','e','s'])] \n",
    "    \n",
    "    # CORRECTO aunque no tiene sentido porque justamente es la palabra 'jueves' pero como ejercicio es correcto\n",
    "    \n",
    "    matriz = [[],[],[],[],()] \n",
    "    \n",
    "    # CORRECTO esto es una lista formada por 5 elementos que a su vez son 4 listas y una tupla vacías.\n",
    "    \n",
    "    t = r = s = u = 0 + 1 \n",
    "    \n",
    "    # CORRECTO yo creo que está bien y todas las variables toman el valor 1 ya que se interpreta de derecha a izquierda.\n",
    "    \n",
    "    a = 1; a += 1; a += [] \n",
    "    \n",
    "    # INCORRECTO no podemos sumar la variable integer a, que tiene valor 2 con una lista vacía. \n",
    "    # En efecto, la expresión a += [] significa a = a + [] lo cual no tiene sentido.\n"
   ]
  },
  {
   "cell_type": "code",
   "execution_count": 19,
   "metadata": {
    "scrolled": true
   },
   "outputs": [
    {
     "name": "stdout",
     "output_type": "stream",
     "text": [
      "('Saturno', 'Jupiter', 'Tierra')\n"
     ]
    }
   ],
   "source": [
    "planetas = 'Saturno', 'Jupiter', 'Tierra' # Obtenemos como resultado una tupla con sus paréntesis\n",
    "print(planetas)"
   ]
  },
  {
   "cell_type": "code",
   "execution_count": 24,
   "metadata": {},
   "outputs": [
    {
     "name": "stdout",
     "output_type": "stream",
     "text": [
      "('123', 'abc', 0)\n"
     ]
    }
   ],
   "source": [
    "t = ('123', 'abc', 0, ) # las listas y las tuplas pueden contener elementos de distinto tipo\n",
    "print(t)"
   ]
  },
  {
   "cell_type": "code",
   "execution_count": 21,
   "metadata": {},
   "outputs": [
    {
     "name": "stdout",
     "output_type": "stream",
     "text": [
      "['Lunes', 'Martes', 'Miercoles', 'Jueves']\n"
     ]
    }
   ],
   "source": [
    "dias = ['Lunes', 'Martes', \"Miercoles\", ''.join(['J','u','e','v','e','s'])]\n",
    "print(dias)"
   ]
  },
  {
   "cell_type": "code",
   "execution_count": 51,
   "metadata": {},
   "outputs": [
    {
     "name": "stdout",
     "output_type": "stream",
     "text": [
      "[[], [], [], [], ()]\n",
      "[[], ['bola1', 'bola2', ''], [], [], ()]\n",
      "[[], ['bola1', 'bola2', 'bola3'], [], ['bolaA', 'bolaB'], ()]\n",
      "matriz[1]:   bola1\n",
      "matriz 4o elemento, 2a posición:   bolaB\n"
     ]
    }
   ],
   "source": [
    "matriz = [[],[],[],[],()] # Comprobamos y realizamos algunas operaciones...\n",
    "print(matriz)\n",
    "\n",
    "matriz[1] = [\"bola1\",\"bola2\",\"\"]\n",
    "print(matriz)\n",
    "\n",
    "matriz[1][2]=\"bola3\"\n",
    "matriz[3].append (\"bolaA\")\n",
    "matriz[3].append (\"bolaB\") # importante ver que el contador inicial de posición es el cero 0\n",
    "print(matriz)\n",
    "\n",
    "print('matriz[1]:   ' + matriz[1][0])\n",
    "\n",
    "print('matriz 4o elemento, 2a posición:   ' + matriz[3][1])\n",
    "\n"
   ]
  },
  {
   "cell_type": "code",
   "execution_count": 17,
   "metadata": {},
   "outputs": [
    {
     "name": "stdout",
     "output_type": "stream",
     "text": [
      "1 1 1 1\n"
     ]
    }
   ],
   "source": [
    "t = r = s = u = 0 + 1\n",
    "\n",
    "print(t,r,s,u)\n"
   ]
  },
  {
   "cell_type": "code",
   "execution_count": 55,
   "metadata": {},
   "outputs": [
    {
     "name": "stdout",
     "output_type": "stream",
     "text": [
      "16\n"
     ]
    }
   ],
   "source": [
    "a = 1; a += 1 ; a *=8# a += []\n",
    "\n",
    "print(a)\n",
    "\n",
    "# Hemos añadido una operación más para comprobar que con la multiplicación también funciona. \n",
    "# La operación a+=[] nos da error como esperávamos. También comprovamos que las operaciones separadas por ;\n",
    "# se van ejecutando de izquierda a derecha.\n"
   ]
  },
  {
   "cell_type": "markdown",
   "metadata": {},
   "source": [
    "### Pregunta 5\n",
    "\n",
    "Explica a qué se refieren con el término \"batteries included\" en la comunidad Python. **Poned 5 ejemplos de paquetes de la librería estándar y una explicación de cada uno de ellos.**\n",
    "\n",
    "**Respuesta:**"
   ]
  },
  {
   "cell_type": "markdown",
   "metadata": {},
   "source": [
    "Python tiene una particularidad y es que viene de serie con una cantidad de librerías \"infinita\". Eso implica que no tenemos que estar llamando, buscando e instalando archivos o paquetes auxiliares. En este sentido es muy distinto de R, en que la carga de cada package a veces es desesperante. Además Python consigue que eso no vaya en detrimento de la velocidad de procesado de los scripts.\n",
    "\n",
    "Como ejemplos podemos poner algunos:\n",
    "\n",
    "- **math**: Es quizá uno de los más evidentes pero por ejemplo sorprende que ya integra todas las funciones de combinatoria para el soporte a cálculos de probabilidad.\n",
    "\n",
    "- **email**: Incluye toda una serie de rutinas para trabajar con correo electrónico, enviar emails por ejemplo para avisar de una incidencia en un sistema.\n",
    "\n",
    "- **csv:** incluye toda una serie de funciones para tratar con archivos txt y csv.\n",
    "\n",
    "- **sockets:** Dispone de funciones para tratar con sockets udp, es decir funciones para interconectar sistemas de otros equipamientos hardware.\n",
    "\n",
    "- **audio y megafonía:** Permite trabajar de salida con archivos wav, mp3 y detectar de qué tipo son los archivos y realizar algunas manipulaciones básicas."
   ]
  },
  {
   "cell_type": "markdown",
   "metadata": {},
   "source": [
    "### Pregunta 6\n",
    "\n",
    "Python dispone de un idiom muy útil conocido como list comprehensions. ¿Puedes explicar en qué consiste? Indicad \n",
    "**dos ejemplos** de código que utilicen este idiom y documentad cada parte de código relevante.\n",
    "\n",
    "**Respuesta:**"
   ]
  },
  {
   "cell_type": "markdown",
   "metadata": {},
   "source": [
    "Las List comprehensions son estructuras generalmente de 3 bloques del tipo:\n",
    "\n",
    "    [   expresion(x)   for x in list   if condicion   ]\n",
    "\n",
    "Sirven para realizar los clásicos bucles for en una sola línea de forma compactada.\n",
    "\n",
    "Como ejemplo ponemos la de sacar las posiciones de las adeninas de una cadena de ADN:\n"
   ]
  },
  {
   "cell_type": "code",
   "execution_count": 33,
   "metadata": {
    "scrolled": true
   },
   "outputs": [
    {
     "name": "stdout",
     "output_type": "stream",
     "text": [
      "[0, 11, 12, 13, 14, 24, 26, 27, 28]\n"
     ]
    }
   ],
   "source": [
    "cadena = 'ATGTTCGTGTCAAAACGCGCGGGTATAAA'\n",
    "\n",
    "adeninas = [i for i in range(len(cadena)) if cadena[i]=='A']\n",
    "\n",
    "print(adeninas)\n"
   ]
  },
  {
   "cell_type": "markdown",
   "metadata": {},
   "source": [
    "Acabamos de obtener las posiciones de todas las A, adeninas en la cadena, considerando la primera posición, la posición cero. \n",
    "\n",
    "Si lo complicamos un poco más, podemos plantera otro ejemplo para pasar a tripletes y convertir a aminoácidos usando un diccionario \"reducido\" de conversión de tripletes a aminoácidos:"
   ]
  },
  {
   "cell_type": "code",
   "execution_count": 65,
   "metadata": {},
   "outputs": [
    {
     "name": "stdout",
     "output_type": "stream",
     "text": [
      "\n",
      " ['ATG', 'CTT', 'CGT', 'GTC', 'AAA', 'ACG', 'CGC', 'GGG', 'TAT', 'AAA', 'CGC', 'CGC']\n",
      "\n",
      " ['M', 'L', 'R', 'V', 'K', 'T', 'R', 'G', 'Y', 'K', 'R', 'R']\n",
      "\n",
      "MLRVKTRGYKRR\n"
     ]
    }
   ],
   "source": [
    "aminoacidos = {'GTC': 'V', 'AAA': 'K', 'ACG': 'T', 'CGC': 'R', 'GGG': 'G',\n",
    "               'TAT': 'Y', 'ATG': 'M', 'CTT': 'L', 'CGT': 'R'} #declaramos un diccionario triplete-> aminoacido\n",
    "\n",
    "cadena = 'ATGCTTCGTGTCAAAACGCGCGGGTATAAACGCCGC'\n",
    "\n",
    "tripletes = [cadena[i:i+3] for i in range(len(cadena)) if i % 3 == 0] #separamos la cadena de 3 en 3\n",
    "\n",
    "print('\\n',tripletes) # la mostramos en pantalla\n",
    "\n",
    "proteinas = [aminoacidos[tripletes[i]] for i in range(len(tripletes))] #traducimos la cadena usando el diccionario\n",
    "\n",
    "print('\\n',proteinas) # Ya tenemos el código de proteinas Metionina, Leucina, ...\n",
    "\n",
    "print('\\n' + ''.join(proteinas)) # podemos compactarla\n"
   ]
  },
  {
   "cell_type": "markdown",
   "metadata": {},
   "source": [
    "### Pregunta 7\n",
    "\n",
    "Enumera **dos** diferencias entre las versiones 2 y 3 de Python.\n",
    "\n",
    "**Respuesta:**"
   ]
  },
  {
   "cell_type": "markdown",
   "metadata": {},
   "source": [
    "**texto unicode utf-8**\n",
    "Las cadenas de texto en Python3 son siempre en codificación UNICODE UTF-8 mientras que en Python2 había que realizar una declaración previa.\n",
    "\n",
    "**input()**\n",
    "Cuando entramos datos en Python3 con el comando input() se fuerza a que siempre se trate de texto, mientras que en Python2 se recogía el dato en texto o número en función de la entrada.\n"
   ]
  },
  {
   "cell_type": "markdown",
   "metadata": {},
   "source": [
    "### Ejercicio 1\n",
    "\n",
    "Escribe un programa que asigne dos valores enteros cualquiera (escoged vosotros un número entero aleatorio, no es necesario utilizar ninguna librería externa) a dos variables con nombre t y w, calcule el producto de t por dos veces w y finalmente muestre el valor del cuadrado de la operación anterior:\n",
    "\n",
    "f(t, w) = (t \\* 2 \\* w)<sup>2</sup>\n",
    "\n",
    "**Nota:** No es necesario utilizar ninguna libreria, ni importar ningún módulo para escoger el numero aleatorio ni para resolver este ejercicio."
   ]
  },
  {
   "cell_type": "code",
   "execution_count": 69,
   "metadata": {},
   "outputs": [
    {
     "name": "stdout",
     "output_type": "stream",
     "text": [
      "144\n",
      "784\n"
     ]
    }
   ],
   "source": [
    "def f(t,w):\n",
    "    return (t*2*w)**2\n",
    "\n",
    "print(f(2, 3))\n",
    "\n",
    "print(f(7,2))"
   ]
  },
  {
   "cell_type": "markdown",
   "metadata": {},
   "source": [
    "### Ejercicio 2\n",
    "\n",
    "Escribe un programa que defina una lista cuyos valores sean los nombres de los meses del año. Ordénalos por orden lexicográfico. No utilices ninguna librería:"
   ]
  },
  {
   "cell_type": "code",
   "execution_count": 87,
   "metadata": {},
   "outputs": [
    {
     "name": "stdout",
     "output_type": "stream",
     "text": [
      "\n",
      "Orden alfabético:\n",
      "\n",
      " ['abril', 'agosto', 'diciembre', 'enero', 'febrero', 'julio', 'junio', 'marzo', 'mayo', 'noviembre', 'octubre', 'septiembre'] \n",
      "\n",
      "Orden longitud palabra mes:\n",
      "\n",
      " ['mayo', 'abril', 'enero', 'julio', 'junio', 'marzo', 'agosto', 'febrero', 'octubre', 'diciembre', 'noviembre', 'septiembre'] \n",
      "\n"
     ]
    }
   ],
   "source": [
    "doce_meses = ['enero', 'febrero', 'marzo',\n",
    "              'abril', 'mayo', 'junio',\n",
    "              'julio', 'agosto', 'septiembre',\n",
    "              'octubre', 'noviembre', 'diciembre'] # declaramos la lista de meses\n",
    "\n",
    "doce_meses = sorted(doce_meses) # ordenamos alfabéticamente la lista\n",
    "\n",
    "print('\\nOrden alfabético:\\n\\n',doce_meses,'\\n') \n",
    "\n",
    "# Hacemos un segundo ejercicio ordenando por la longitud de la palabra, del nombre de los meses\n",
    "\n",
    "doce_meses = [str(len(doce_meses[i])+100) + doce_meses[i] for i in range(len(doce_meses))] \n",
    "\n",
    "# Añadimos el número delante para poder ordenar tabién por la longitud de la palabra.\n",
    "# Añadimos 100 para eliminar el efecto clasificatorio del 10 por delante del 4.\n",
    "\n",
    "doce_meses = sorted(doce_meses)\n",
    "\n",
    "doce_meses = [doce_meses[i][3:] for i in range(len(doce_meses))] # Eliminamos el número delante una vez ordenados\n",
    "\n",
    "print('Orden longitud palabra mes:\\n\\n',doce_meses,'\\n') # Seguro que hay otras formas de hacerlo más óptimas pero así practivo List comprehension\n"
   ]
  },
  {
   "cell_type": "markdown",
   "metadata": {},
   "source": [
    "### Ejercicio 3\n",
    "\n",
    "Escribe un programa que calcule e imprima el volumen de una esfera de radio 19.2758 y lo redondee a el entero mas cercano:"
   ]
  },
  {
   "cell_type": "code",
   "execution_count": 85,
   "metadata": {},
   "outputs": [
    {
     "name": "stdout",
     "output_type": "stream",
     "text": [
      "30000\n"
     ]
    }
   ],
   "source": [
    "\n",
    "import math\n",
    "\n",
    "def vol_esfera(radio):\n",
    "   return int((4/3)*math.pi*(radio**3)) # He utilizado una función que realiza el cálculo\n",
    "\n",
    "print(vol_esfera(19.2758))\n"
   ]
  },
  {
   "cell_type": "markdown",
   "metadata": {},
   "source": [
    "### Ejercicio 4\n",
    "\n",
    "Escribe un programa donde se defina un **diccionario** (estructura de datos Python) cuyas **claves** sean los nombres de los continentes y el **valor** una **lista** (estructura de datos Python) con animales endémicos de ese continente. Por ejemplo:\n",
    "\n",
    "```\n",
    "animales -> Europa: Lince ibérico, Bison Europeo, Vaca Suiza\n",
    "            África: León, Elefante Africano, Avestruz\n",
    "            ...\n",
    "```\n",
    "\n",
    "Un diccionario y una lista son estructuras de datos de Python, por favor repasa la teoria si no lo recuerdas."
   ]
  },
  {
   "cell_type": "code",
   "execution_count": 91,
   "metadata": {},
   "outputs": [
    {
     "name": "stdout",
     "output_type": "stream",
     "text": [
      "dict_keys(['África', 'Europa']) \n",
      "\n",
      "dict_values([['León', 'Elefante Africano', 'Avestruz'], ['Lince ibérico', 'Bison Europeo', 'Vaca Suiza']])\n"
     ]
    }
   ],
   "source": [
    "\n",
    "animales = {'África': ['León','Elefante Africano','Avestruz'], \n",
    "            'Europa': ['Lince ibérico','Bison Europeo','Vaca Suiza']}\n",
    "\n",
    "\n",
    "print(animales.keys(),'\\n') # displayamos las claves del diccionario\n",
    "\n",
    "print(animales.values()) # displayamos los valores del diccionario\n"
   ]
  },
  {
   "cell_type": "markdown",
   "metadata": {},
   "source": [
    "### Ejercicio 5\n",
    "\n",
    "Escribe un programa que imprima la versión del intérprete de Python que se está ejecutando:"
   ]
  },
  {
   "cell_type": "code",
   "execution_count": 90,
   "metadata": {},
   "outputs": [
    {
     "name": "stdout",
     "output_type": "stream",
     "text": [
      "la versión de python es: Python 3.6.9 (default, Jul 17 2020, 12:50:27) \n",
      "[GCC 8.4.0]\n"
     ]
    }
   ],
   "source": [
    "\n",
    "import sys\n",
    "\n",
    "print('la versión de python es: Python '+ sys.version)\n"
   ]
  },
  {
   "cell_type": "markdown",
   "metadata": {},
   "source": [
    "### Ejercicio 6\n",
    "\n",
    "Escribe un programa que imprima la fecha y la hora actuales:"
   ]
  },
  {
   "cell_type": "code",
   "execution_count": 107,
   "metadata": {},
   "outputs": [
    {
     "name": "stdout",
     "output_type": "stream",
     "text": [
      "Fri Mar 26 00:15:10 2021 \n",
      "\n",
      "['Fri', 'Mar', '26', '00:15:10', '2021'] \n",
      "\n",
      "Hora : 00:15:10 \n",
      "\n",
      "Fecha: Fri 26 Mar 2021\n"
     ]
    }
   ],
   "source": [
    "\n",
    "import time\n",
    "\n",
    "separa = time.strftime(\"%c\") # obtenemos la fecha en bruto en un solo string\n",
    "\n",
    "print(separa, '\\n') # fecha y hora en bruto\n",
    "\n",
    "separa = separa.split(\" \") # separamos los elementos en una lista usando el espacio como separador\n",
    "\n",
    "print(separa, '\\n') # fecha y hora en lista\n",
    "\n",
    "print(\"Hora : \" + separa[3],'\\n') # cogemos la parte de la lista donde viene la hora\n",
    "\n",
    "print(\"Fecha:\",separa[0],separa[2],separa[1],separa[4]) # Le damos formato europeo a la parte de fecha\n"
   ]
  },
  {
   "cell_type": "markdown",
   "metadata": {},
   "source": [
    "### Ejercicio 7\n",
    "\n",
    "Escribe un programa que calcule el número de días entre estas dos fechas:\n",
    "\n",
    "01/12/1984\n",
    "\n",
    "09/03/2021\n"
   ]
  },
  {
   "cell_type": "code",
   "execution_count": 100,
   "metadata": {},
   "outputs": [
    {
     "name": "stdout",
     "output_type": "stream",
     "text": [
      "\n",
      "La diferencia es de 83 días\n",
      "\n",
      "La diferencia es de 13247 días\n"
     ]
    }
   ],
   "source": [
    "# Una forma de hacerlo es definir una función diferencia en días y luego le podemos dar varios valores\n",
    "\n",
    "from datetime import date\n",
    "\n",
    "def f_dif(d1,d2):\n",
    "    dif_date = (d2-d1).days\n",
    "    dif_date = '\\nLa diferencia es de ' + str(dif_date) + ' días'\n",
    "    return print(dif_date)\n",
    "\n",
    "# ahora jugamos con la función con dos ejemplos:\n",
    "\n",
    "f_dif(date(2021,1,1),date(2021,3,25))\n",
    "\n",
    "f_dif(date(1984,12,1),date(2021,3,9))\n"
   ]
  }
 ],
 "metadata": {
  "kernelspec": {
   "display_name": "Python 3",
   "language": "python",
   "name": "python3"
  },
  "language_info": {
   "codemirror_mode": {
    "name": "ipython",
    "version": 3
   },
   "file_extension": ".py",
   "mimetype": "text/x-python",
   "name": "python",
   "nbconvert_exporter": "python",
   "pygments_lexer": "ipython3",
   "version": "3.6.9"
  }
 },
 "nbformat": 4,
 "nbformat_minor": 1
}
